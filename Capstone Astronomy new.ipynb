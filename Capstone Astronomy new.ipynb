{
 "cells": [
  {
   "cell_type": "markdown",
   "id": "d0c29366-fbd5-49bb-86c1-41037cde3cd6",
   "metadata": {},
   "source": [
    "First we need to import our CSV files"
   ]
  },
  {
   "cell_type": "code",
   "execution_count": 1,
   "id": "1564fa8f-1b5b-4b2c-ac70-e1a23fb3e08e",
   "metadata": {},
   "outputs": [],
   "source": [
    "import pandas as pdddf\n",
    "import sqlite3 as sql\n",
    "\n",
    "dfComposite = pd.read_csv('data/NASA_Exoplanet_Composite.csv')\n",
    "dfPlanetary = pd.read_csv('data/NASA_Exoplanet_Planetary.csv', low_memory=False)\n"
   ]
  },
  {
   "cell_type": "code",
   "execution_count": 14,
   "id": "6ecc7b09-5e61-4526-8243-c2829336353f",
   "metadata": {},
   "outputs": [],
   "source": [
    "Composite = dfComposite.copy()\n",
    "Planetary = dfPlanetary.copy()"
   ]
  },
  {
   "cell_type": "markdown",
   "id": "e27e50bb-b110-4547-91fc-27d5a6fc665c",
   "metadata": {},
   "source": [
    "clean individual df"
   ]
  },
  {
   "cell_type": "code",
   "execution_count": 12,
   "id": "594ed4bf-0858-4448-9292-9e94e2ed91cd",
   "metadata": {
    "scrolled": true
   },
   "outputs": [
    {
     "ename": "AttributeError",
     "evalue": "'DataFrame' object has no attribute 'keep'",
     "output_type": "error",
     "traceback": [
      "\u001b[1;31m---------------------------------------------------------------------------\u001b[0m",
      "\u001b[1;31mAttributeError\u001b[0m                            Traceback (most recent call last)",
      "\u001b[1;32m~\\AppData\\Local\\Temp\\ipykernel_15512\\3339814070.py\u001b[0m in \u001b[0;36m?\u001b[1;34m()\u001b[0m\n\u001b[1;32m----> 1\u001b[1;33m \u001b[0mdfComposite\u001b[0m\u001b[1;33m.\u001b[0m\u001b[0mkeep\u001b[0m\u001b[1;33m(\u001b[0m\u001b[0mcolumns\u001b[0m\u001b[1;33m=\u001b[0m\u001b[1;34m\"pl_name\"\u001b[0m\u001b[1;33m)\u001b[0m\u001b[1;33m\u001b[0m\u001b[1;33m\u001b[0m\u001b[0m\n\u001b[0m",
      "\u001b[1;32m~\\AppData\\Local\\Programs\\Python\\Python312\\Lib\\site-packages\\pandas\\core\\generic.py\u001b[0m in \u001b[0;36m?\u001b[1;34m(self, name)\u001b[0m\n\u001b[0;32m   6200\u001b[0m             \u001b[1;32mand\u001b[0m \u001b[0mname\u001b[0m \u001b[1;32mnot\u001b[0m \u001b[1;32min\u001b[0m \u001b[0mself\u001b[0m\u001b[1;33m.\u001b[0m\u001b[0m_accessors\u001b[0m\u001b[1;33m\u001b[0m\u001b[1;33m\u001b[0m\u001b[0m\n\u001b[0;32m   6201\u001b[0m             \u001b[1;32mand\u001b[0m \u001b[0mself\u001b[0m\u001b[1;33m.\u001b[0m\u001b[0m_info_axis\u001b[0m\u001b[1;33m.\u001b[0m\u001b[0m_can_hold_identifiers_and_holds_name\u001b[0m\u001b[1;33m(\u001b[0m\u001b[0mname\u001b[0m\u001b[1;33m)\u001b[0m\u001b[1;33m\u001b[0m\u001b[1;33m\u001b[0m\u001b[0m\n\u001b[0;32m   6202\u001b[0m         \u001b[1;33m)\u001b[0m\u001b[1;33m:\u001b[0m\u001b[1;33m\u001b[0m\u001b[1;33m\u001b[0m\u001b[0m\n\u001b[0;32m   6203\u001b[0m             \u001b[1;32mreturn\u001b[0m \u001b[0mself\u001b[0m\u001b[1;33m[\u001b[0m\u001b[0mname\u001b[0m\u001b[1;33m]\u001b[0m\u001b[1;33m\u001b[0m\u001b[1;33m\u001b[0m\u001b[0m\n\u001b[1;32m-> 6204\u001b[1;33m         \u001b[1;32mreturn\u001b[0m \u001b[0mobject\u001b[0m\u001b[1;33m.\u001b[0m\u001b[0m__getattribute__\u001b[0m\u001b[1;33m(\u001b[0m\u001b[0mself\u001b[0m\u001b[1;33m,\u001b[0m \u001b[0mname\u001b[0m\u001b[1;33m)\u001b[0m\u001b[1;33m\u001b[0m\u001b[1;33m\u001b[0m\u001b[0m\n\u001b[0m",
      "\u001b[1;31mAttributeError\u001b[0m: 'DataFrame' object has no attribute 'keep'"
     ]
    }
   ],
   "source": [
    "##dfComposite.keep(columns=\"pl_name\")"
   ]
  },
  {
   "cell_type": "code",
   "execution_count": null,
   "id": "6b2f617f-504a-45b7-99bf-4c12a52af2c6",
   "metadata": {},
   "outputs": [],
   "source": [
    "Composite = dfComposite columns x y z\n",
    "Planetary = dfPlanetear columns x y z\n"
   ]
  },
  {
   "cell_type": "markdown",
   "id": "3bc6f44c-978d-4ec4-9d95-01ad2468bd23",
   "metadata": {},
   "source": [
    "The next step is to merge the two files.  I have chosen to merge them on the pl_name (planetary name) column."
   ]
  },
  {
   "cell_type": "code",
   "execution_count": 4,
   "id": "64f75b32-53db-47bd-8968-f335e1f7c615",
   "metadata": {},
   "outputs": [
    {
     "name": "stdout",
     "output_type": "stream",
     "text": [
      "None\n"
     ]
    }
   ],
   "source": [
    "merged_df = pd.merge(dfComposite, dfPlanetary, on='pl_name', how=\"left\")\n",
    "##print(merged_df)\n",
    "merged_df.to_csv('Astronomy.csv', index=False)\n",
    "##ToDisplay = merged_df.to_csv( 'Astronomy.csv', index=False)\n",
    "##(ToDisplay) "
   ]
  },
  {
   "cell_type": "code",
   "execution_count": 5,
   "id": "e8b338ea-8cea-44b0-8aaa-9907139f1788",
   "metadata": {},
   "outputs": [],
   "source": [
    "##df = pd.concat([dfComposite, dfPlanetary], ignore_index=True)\n",
    "##df.to_csv('Astronomy.csv', index=False)\n",
    "##print(Astronomy.csv)"
   ]
  },
  {
   "cell_type": "markdown",
   "id": "d3cce882-c4d6-401e-a37a-368c751de82b",
   "metadata": {},
   "source": [
    "As you can see from the output displayed above, there is quite a bit of information.  For the purposes of this project, editing of the merged file is needed. The changes that will be made are: \n",
    "1) selection of planet types C, D and E.  This brings the rows down to a manageable level for this project.  \n",
    "2) keeping the columns that will be needed in order to complete the visualazations. \n",
    "   "
   ]
  },
  {
   "cell_type": "code",
   "execution_count": 27,
   "id": "026df9f4-b28a-49e7-9856-933f5bdca401",
   "metadata": {},
   "outputs": [
    {
     "ename": "SyntaxError",
     "evalue": "invalid syntax (3075988970.py, line 5)",
     "output_type": "error",
     "traceback": [
      "\u001b[1;36m  Cell \u001b[1;32mIn[27], line 5\u001b[1;36m\u001b[0m\n\u001b[1;33m    WHERE column(3) == \"c\", \"d\", \"e\";\u001b[0m\n\u001b[1;37m          ^\u001b[0m\n\u001b[1;31mSyntaxError\u001b[0m\u001b[1;31m:\u001b[0m invalid syntax\n"
     ]
    }
   ],
   "source": [
    "## 1) select planet types C, D and E.\n",
    "%%sql\n",
    "\n",
    "SELECT * FROM (Astronomy)\n",
    "WHERE Column(3) == \"c\", \"d\", \"e\";"
   ]
  },
  {
   "cell_type": "code",
   "execution_count": null,
   "id": "95f7c7c6-d4bd-4e7e-8411-3b20fd8d500a",
   "metadata": {},
   "outputs": [],
   "source": [
    "## 2) remove the columns that are not needed for this project.\n",
    "merged_df = merged_df.drop(columns=['column1', 'column2'], axis=1)\n",
    "\n",
    "##2) keep the columns that I will need.\n",
    "df = df.loc[:, ['pl_name','pl_location, ']]"
   ]
  },
  {
   "cell_type": "markdown",
   "id": "bf41aec8-561e-41ae-8993-d5dbebe08dd2",
   "metadata": {},
   "source": [
    "The csvs did not have the distance from the Earth, so we will add that now."
   ]
  },
  {
   "cell_type": "code",
   "execution_count": null,
   "id": "bbb0909e-f0c0-4f3c-b390-2ccc12d92716",
   "metadata": {},
   "outputs": [],
   "source": [
    "##  Add column with the light years from earth for each planet."
   ]
  },
  {
   "cell_type": "markdown",
   "id": "e328e0b0-e958-4b3a-ad85-fca325de3067",
   "metadata": {},
   "source": [
    "Now we need to visualize the data in three ways:\n",
    "1) show how, where the planet was discovered\n",
    "2) The facility and the type of telescope that was used\n",
    "3) The name of the planet and how many light years from earth"
   ]
  },
  {
   "cell_type": "code",
   "execution_count": null,
   "id": "e478bb5b-3f91-4ead-a984-5bf3eb1d3c86",
   "metadata": {},
   "outputs": [],
   "source": [
    "## 1) show how, where the planet was discovered"
   ]
  },
  {
   "cell_type": "code",
   "execution_count": null,
   "id": "9f61855f-cceb-4580-b741-0887f611c242",
   "metadata": {},
   "outputs": [],
   "source": [
    "## 2) The facility and the type of telescope that was used"
   ]
  },
  {
   "cell_type": "code",
   "execution_count": null,
   "id": "09345887-d9a2-43c5-9f65-a0f52c77b9e0",
   "metadata": {},
   "outputs": [],
   "source": [
    "## 3) The name of the planet and how many light years from earth"
   ]
  }
 ],
 "metadata": {
  "kernelspec": {
   "display_name": "Python 3 (ipykernel)",
   "language": "python",
   "name": "python3"
  },
  "language_info": {
   "codemirror_mode": {
    "name": "ipython",
    "version": 3
   },
   "file_extension": ".py",
   "mimetype": "text/x-python",
   "name": "python",
   "nbconvert_exporter": "python",
   "pygments_lexer": "ipython3",
   "version": "3.12.0"
  }
 },
 "nbformat": 4,
 "nbformat_minor": 5
}
